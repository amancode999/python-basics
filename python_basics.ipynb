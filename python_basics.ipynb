{
  "nbformat": 4,
  "nbformat_minor": 0,
  "metadata": {
    "colab": {
      "provenance": [],
      "authorship_tag": "ABX9TyOV/ryZHqAUAS55GO9gW/Jn",
      "include_colab_link": true
    },
    "kernelspec": {
      "name": "python3",
      "display_name": "Python 3"
    },
    "language_info": {
      "name": "python"
    }
  },
  "cells": [
    {
      "cell_type": "markdown",
      "metadata": {
        "id": "view-in-github",
        "colab_type": "text"
      },
      "source": [
        "<a href=\"https://colab.research.google.com/github/amancode999/python-basics/blob/main/python_basics.ipynb\" target=\"_parent\"><img src=\"https://colab.research.google.com/assets/colab-badge.svg\" alt=\"Open In Colab\"/></a>"
      ]
    },
    {
      "cell_type": "code",
      "execution_count": 1,
      "metadata": {
        "id": "NHoED17xfcRg"
      },
      "outputs": [],
      "source": [
        "!mkdir -p 01_basics"
      ]
    },
    {
      "cell_type": "markdown",
      "source": [
        "**Introduction of world most used language Python **\n",
        "\n",
        "\n",
        "---\n",
        " *Python is a high level langugage ,interpreted programming language known for its simplicity & readiablity.*\n",
        "\n",
        "\n",
        "1.   **Who created the python ?**\n",
        "\n",
        "\n",
        "*   Created by Guido van rossum a dutch programmer.\n",
        "\n",
        "*   he started working in 1989\n",
        "\n",
        "*   Officially released as Python 0.9.0 in 1991.\n",
        "\n",
        "\n",
        "2.   **Why he created the python ??**\n",
        "\n",
        "\n",
        "*   Guido wanted a language that was to read like English.\n",
        "\n",
        "*   Powerfull but not complicated like Java or C.\n",
        "\n",
        "\n",
        "*   Inspired by a language called **ABC** (also developed at CWI, Netherlands)\n",
        "\n",
        "\n",
        "3.  First Real-World Use:\n",
        "\n",
        "\n",
        "*   Early adoption was in **system administration & scripting**\n",
        "\n",
        "*   Quickly picked up by the scientific and education community\n",
        "\n",
        "*   Became a top choice for **web development, automation, and now AI & ML**\n",
        "\n",
        "\n",
        "4. Where is Python Used?\n",
        "\n",
        "\n",
        "*   Web Development → Django, Flask\n",
        "    \n",
        "*   Data Science & Machine Learning → Pandas, NumPy, scikit-learn, TensorFlow\n",
        "\n",
        "*   Automation & Scripting → OS scripts, bots\n",
        "\n",
        "*   Game Development → Pygame\n",
        "\n",
        "*   AI, Chatbots, APIs, and more !\n",
        "   \n",
        "\n",
        "\n",
        "\n",
        "\n",
        "\n",
        "\n",
        "\n",
        "\n",
        "\n",
        "\n",
        "\n",
        "\n",
        "\n",
        "\n",
        "\n",
        "\n"
      ],
      "metadata": {
        "id": "tFJX4Skw2pHD"
      }
    },
    {
      "cell_type": "code",
      "source": [],
      "metadata": {
        "id": "G_g84xCD635c"
      },
      "execution_count": null,
      "outputs": []
    }
  ]
}